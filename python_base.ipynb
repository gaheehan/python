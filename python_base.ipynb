{
 "cells": [
  {
   "cell_type": "markdown",
   "id": "b5ceba41",
   "metadata": {},
   "source": [
    "파이썬은 순차지향적 언어"
   ]
  },
  {
   "cell_type": "code",
   "execution_count": 1,
   "id": "93b08bc1",
   "metadata": {},
   "outputs": [
    {
     "name": "stdout",
     "output_type": "stream",
     "text": [
      "Hong gil dong\n"
     ]
    }
   ],
   "source": [
    "name = 'Hong gil dong'\n",
    "print(name)"
   ]
  },
  {
   "cell_type": "code",
   "execution_count": 2,
   "id": "8cb1bf0f",
   "metadata": {},
   "outputs": [
    {
     "name": "stdout",
     "output_type": "stream",
     "text": [
      "12\n"
     ]
    }
   ],
   "source": [
    "a = 7\n",
    "b = 5\n",
    "print(a+b)\n"
   ]
  },
  {
   "cell_type": "code",
   "execution_count": 3,
   "id": "a71e3332",
   "metadata": {},
   "outputs": [
    {
     "name": "stdout",
     "output_type": "stream",
     "text": [
      "a+b\n"
     ]
    }
   ],
   "source": [
    "a = 7\n",
    "b = 5\n",
    "print('a+b')"
   ]
  },
  {
   "cell_type": "code",
   "execution_count": 4,
   "id": "7e9816ea",
   "metadata": {},
   "outputs": [
    {
     "name": "stdout",
     "output_type": "stream",
     "text": [
      "1 1\n"
     ]
    }
   ],
   "source": [
    "a=1\n",
    "b=1\n",
    "print(a,b)"
   ]
  },
  {
   "cell_type": "code",
   "execution_count": 5,
   "id": "b6aa404f",
   "metadata": {},
   "outputs": [
    {
     "name": "stdout",
     "output_type": "stream",
     "text": [
      "1\n"
     ]
    }
   ],
   "source": [
    "print(a)"
   ]
  },
  {
   "cell_type": "code",
   "execution_count": 6,
   "id": "9b76036d",
   "metadata": {},
   "outputs": [
    {
     "name": "stdout",
     "output_type": "stream",
     "text": [
      "1.5 3.5\n"
     ]
    }
   ],
   "source": [
    "a=1.5\n",
    "b=3.5\n",
    "print(a,b)"
   ]
  },
  {
   "cell_type": "code",
   "execution_count": 7,
   "id": "9ddbe40d",
   "metadata": {},
   "outputs": [
    {
     "name": "stdout",
     "output_type": "stream",
     "text": [
      "ABC 101010\n"
     ]
    }
   ],
   "source": [
    "a='ABC'\n",
    "b=\"101010\"\n",
    "print(a,b)"
   ]
  },
  {
   "cell_type": "code",
   "execution_count": 8,
   "id": "838c6b21",
   "metadata": {},
   "outputs": [
    {
     "name": "stdout",
     "output_type": "stream",
     "text": [
      "True False\n"
     ]
    }
   ],
   "source": [
    "a=True\n",
    "b=False\n",
    "print(a,b)"
   ]
  },
  {
   "cell_type": "code",
   "execution_count": 9,
   "id": "a5063c95",
   "metadata": {},
   "outputs": [
    {
     "name": "stdout",
     "output_type": "stream",
     "text": [
      "243\n"
     ]
    }
   ],
   "source": [
    "print(3*3*3*3*3)"
   ]
  },
  {
   "cell_type": "code",
   "execution_count": 10,
   "id": "7db73218",
   "metadata": {},
   "outputs": [
    {
     "name": "stdout",
     "output_type": "stream",
     "text": [
      "243\n"
     ]
    }
   ],
   "source": [
    "print(3 ** 5)"
   ]
  },
  {
   "cell_type": "code",
   "execution_count": 11,
   "id": "63877918",
   "metadata": {},
   "outputs": [
    {
     "name": "stdout",
     "output_type": "stream",
     "text": [
      "1\n"
     ]
    }
   ],
   "source": [
    "print(7%2)"
   ]
  },
  {
   "cell_type": "code",
   "execution_count": 15,
   "id": "1af52226",
   "metadata": {},
   "outputs": [
    {
     "name": "stdout",
     "output_type": "stream",
     "text": [
      "2\n"
     ]
    }
   ],
   "source": [
    "a=1\n",
    "a=a+1\n",
    "print(a)"
   ]
  },
  {
   "cell_type": "code",
   "execution_count": 16,
   "id": "d5b4cd98",
   "metadata": {},
   "outputs": [
    {
     "name": "stdout",
     "output_type": "stream",
     "text": [
      "3\n"
     ]
    }
   ],
   "source": [
    "a+=1\n",
    "print(a)"
   ]
  },
  {
   "cell_type": "code",
   "execution_count": 17,
   "id": "48476a08",
   "metadata": {},
   "outputs": [
    {
     "name": "stdout",
     "output_type": "stream",
     "text": [
      "1\n"
     ]
    }
   ],
   "source": [
    "a=a-1\n",
    "a-=1\n",
    "print(a)"
   ]
  },
  {
   "cell_type": "code",
   "execution_count": 18,
   "id": "26ccfb47",
   "metadata": {},
   "outputs": [
    {
     "name": "stdout",
     "output_type": "stream",
     "text": [
      "10.3\n"
     ]
    }
   ],
   "source": [
    "a=10\n",
    "b=0.3\n",
    "print(a+b)"
   ]
  },
  {
   "cell_type": "code",
   "execution_count": 21,
   "id": "4b6e1ad1",
   "metadata": {},
   "outputs": [
    {
     "name": "stdout",
     "output_type": "stream",
     "text": [
      "10\n"
     ]
    }
   ],
   "source": [
    "a = 10\n",
    "b = 0.9\n",
    "a = int(a)\n",
    "b = int(b)\n",
    "print(a+b)"
   ]
  },
  {
   "cell_type": "code",
   "execution_count": 22,
   "id": "28b87c4b",
   "metadata": {},
   "outputs": [],
   "source": [
    "a = 76.3"
   ]
  },
  {
   "cell_type": "code",
   "execution_count": 23,
   "id": "9f961282",
   "metadata": {},
   "outputs": [
    {
     "name": "stdout",
     "output_type": "stream",
     "text": [
      "152.6\n"
     ]
    }
   ],
   "source": [
    "a = float(a)\n",
    "b = a\n",
    "print(a+b)"
   ]
  },
  {
   "cell_type": "code",
   "execution_count": 24,
   "id": "4e68a925",
   "metadata": {},
   "outputs": [
    {
     "name": "stdout",
     "output_type": "stream",
     "text": [
      "76.376.3\n"
     ]
    }
   ],
   "source": [
    "a = str(a)\n",
    "b = str(b)\n",
    "print(a+b)"
   ]
  },
  {
   "cell_type": "markdown",
   "id": "391162f9",
   "metadata": {},
   "source": [
    "float형을 str으로 casting 했다! 데이터간의 형 변환을 casting 이라고 한다."
   ]
  },
  {
   "cell_type": "code",
   "execution_count": 25,
   "id": "15bd3693",
   "metadata": {},
   "outputs": [],
   "source": [
    "a = 99.5"
   ]
  },
  {
   "cell_type": "code",
   "execution_count": 27,
   "id": "be0bc9fa",
   "metadata": {},
   "outputs": [],
   "source": [
    "a = int(a)"
   ]
  },
  {
   "cell_type": "code",
   "execution_count": 28,
   "id": "e2cfc821",
   "metadata": {},
   "outputs": [
    {
     "name": "stdout",
     "output_type": "stream",
     "text": [
      "99\n"
     ]
    }
   ],
   "source": [
    "print(a)"
   ]
  },
  {
   "cell_type": "code",
   "execution_count": 29,
   "id": "abb13567",
   "metadata": {},
   "outputs": [],
   "source": [
    "b = '99.5'"
   ]
  },
  {
   "cell_type": "code",
   "execution_count": 30,
   "id": "7a190aca",
   "metadata": {},
   "outputs": [
    {
     "name": "stdout",
     "output_type": "stream",
     "text": [
      "99.5\n"
     ]
    }
   ],
   "source": [
    "print(b)"
   ]
  },
  {
   "cell_type": "code",
   "execution_count": 31,
   "id": "8f325c85",
   "metadata": {},
   "outputs": [],
   "source": [
    "b = float(b)"
   ]
  },
  {
   "cell_type": "code",
   "execution_count": 32,
   "id": "c2306661",
   "metadata": {},
   "outputs": [
    {
     "name": "stdout",
     "output_type": "stream",
     "text": [
      "99.5\n"
     ]
    }
   ],
   "source": [
    "print(b)"
   ]
  },
  {
   "cell_type": "code",
   "execution_count": 33,
   "id": "e7a4c1de",
   "metadata": {},
   "outputs": [],
   "source": [
    "b=  99.5\n",
    "c= '99.5' "
   ]
  },
  {
   "cell_type": "code",
   "execution_count": 34,
   "id": "475064d3",
   "metadata": {},
   "outputs": [],
   "source": [
    "b= str(b)"
   ]
  },
  {
   "cell_type": "code",
   "execution_count": 35,
   "id": "d34d4769",
   "metadata": {},
   "outputs": [
    {
     "name": "stdout",
     "output_type": "stream",
     "text": [
      "99.599.5\n"
     ]
    }
   ],
   "source": [
    "print(b+c)"
   ]
  },
  {
   "cell_type": "code",
   "execution_count": 36,
   "id": "dc91d94e",
   "metadata": {},
   "outputs": [],
   "source": [
    "a = '3'\n",
    "b = '2'"
   ]
  },
  {
   "cell_type": "code",
   "execution_count": 37,
   "id": "802b794e",
   "metadata": {},
   "outputs": [
    {
     "name": "stdout",
     "output_type": "stream",
     "text": [
      "32\n"
     ]
    }
   ],
   "source": [
    "print(a+b)"
   ]
  },
  {
   "cell_type": "code",
   "execution_count": 38,
   "id": "e2c657e2",
   "metadata": {},
   "outputs": [
    {
     "name": "stdout",
     "output_type": "stream",
     "text": [
      "23\n"
     ]
    }
   ],
   "source": [
    "print(b+a)"
   ]
  },
  {
   "cell_type": "code",
   "execution_count": 39,
   "id": "e41227e7",
   "metadata": {},
   "outputs": [],
   "source": [
    "a=int(10.3)\n",
    "b=float(10.3)\n",
    "c=str(10.3)"
   ]
  },
  {
   "cell_type": "code",
   "execution_count": 40,
   "id": "16477460",
   "metadata": {},
   "outputs": [
    {
     "name": "stdout",
     "output_type": "stream",
     "text": [
      "<class 'int'>\n"
     ]
    }
   ],
   "source": [
    "print(type(a))"
   ]
  },
  {
   "cell_type": "code",
   "execution_count": 41,
   "id": "fc6fb859",
   "metadata": {},
   "outputs": [
    {
     "name": "stdout",
     "output_type": "stream",
     "text": [
      "<class 'float'>\n"
     ]
    }
   ],
   "source": [
    "print(type(b))"
   ]
  },
  {
   "cell_type": "code",
   "execution_count": 44,
   "id": "1dceeb46",
   "metadata": {},
   "outputs": [
    {
     "name": "stdout",
     "output_type": "stream",
     "text": [
      "<class 'str'>\n"
     ]
    }
   ],
   "source": [
    "print(type(c))"
   ]
  },
  {
   "cell_type": "code",
   "execution_count": 47,
   "id": "5ba317b1",
   "metadata": {},
   "outputs": [
    {
     "name": "stdout",
     "output_type": "stream",
     "text": [
      "<class 'type'>\n"
     ]
    }
   ],
   "source": [
    "print(type(type(a)))"
   ]
  },
  {
   "cell_type": "code",
   "execution_count": 53,
   "id": "906e310a",
   "metadata": {},
   "outputs": [
    {
     "name": "stdout",
     "output_type": "stream",
     "text": [
      "Enter your name:\n",
      "kim\n",
      "Hi kim How are you today?\n"
     ]
    }
   ],
   "source": [
    "print(\"Enter your name:\")\n",
    "somebody = input()\n",
    "print(\"Hi\",somebody,\"How are you today?\")"
   ]
  },
  {
   "cell_type": "code",
   "execution_count": 50,
   "id": "ddb1a768",
   "metadata": {},
   "outputs": [
    {
     "name": "stdout",
     "output_type": "stream",
     "text": [
      "Hello World! Hello Again!!!!\n"
     ]
    }
   ],
   "source": [
    "print(\"Hello World!\",\"Hello Again!!!!\")"
   ]
  },
  {
   "cell_type": "code",
   "execution_count": 54,
   "id": "6664c875",
   "metadata": {},
   "outputs": [
    {
     "name": "stdout",
     "output_type": "stream",
     "text": [
      "온도를 입력하세요.: 36.5\n",
      "36.5\n"
     ]
    }
   ],
   "source": [
    "temperature = float(input(\"온도를 입력하세요.: \"))\n",
    "print(temperature)"
   ]
  },
  {
   "cell_type": "markdown",
   "id": "b52f6caa",
   "metadata": {},
   "source": [
    "## .format"
   ]
  },
  {
   "cell_type": "code",
   "execution_count": 56,
   "id": "8dc34c89",
   "metadata": {},
   "outputs": [
    {
     "name": "stdout",
     "output_type": "stream",
     "text": [
      "1 2 3\n",
      "a b c\n",
      "1 2 3\n",
      "a b c\n"
     ]
    }
   ],
   "source": [
    "print(1,2,3)\n",
    "print(\"a\"+\" \"+\"b\"+\" \"+\"c\")\n",
    "print(\"%d %d %d\"%(1,2,3))\n",
    "print(\"{} {} {}\".format(\"a\",\"b\",\"c\"))"
   ]
  },
  {
   "cell_type": "code",
   "execution_count": 60,
   "id": "edb1f789",
   "metadata": {},
   "outputs": [
    {
     "name": "stdout",
     "output_type": "stream",
     "text": [
      "one two\n",
      "one two\n",
      "1 2\n",
      "1 2\n"
     ]
    }
   ],
   "source": [
    "print('%s %s'%('one','two'))\n",
    "print('{} {}'.format('one','two'))\n",
    "print('%d %d'%(1,2))\n",
    "a = 1\n",
    "b = 2\n",
    "print('{} {}'.format(a,b))"
   ]
  },
  {
   "cell_type": "code",
   "execution_count": 85,
   "id": "6801c1ef",
   "metadata": {},
   "outputs": [
    {
     "name": "stdout",
     "output_type": "stream",
     "text": [
      "Art:        453, Prince per Unit:   59.06\n"
     ]
    }
   ],
   "source": [
    "print(\"Art: %10d, Prince per Unit: %7.2f\" %(453,59.058))"
   ]
  },
  {
   "cell_type": "code",
   "execution_count": 83,
   "id": "1abfb940",
   "metadata": {},
   "outputs": [
    {
     "name": "stdout",
     "output_type": "stream",
     "text": [
      "Art: 453  , Prince per Unit: 59.06\n"
     ]
    }
   ],
   "source": [
    "print(\"Art: %-5d, Prince per Unit: %0.2f\" %(453,59.058))"
   ]
  },
  {
   "cell_type": "code",
   "execution_count": 87,
   "id": "3b8853d3",
   "metadata": {},
   "outputs": [
    {
     "name": "stdout",
     "output_type": "stream",
     "text": [
      "Art:453, Prince per Unit:   59.06\n",
      "Art:  1, Prince per Unit:   59.06\n"
     ]
    }
   ],
   "source": [
    "print(\"Art:%3d, Prince per Unit: %7.2f\" %(453,59.058))\n",
    "print(\"Art:%3d, Prince per Unit: %7.2f\" %(1,59.058))"
   ]
  },
  {
   "cell_type": "code",
   "execution_count": 106,
   "id": "a9099b1c",
   "metadata": {},
   "outputs": [
    {
     "name": "stdout",
     "output_type": "stream",
     "text": [
      "I'm 28 years old.\n",
      "My name is Han ka hee and 28 years old.\n",
      "Product: Apple     , Price per unit:5.243.\n",
      "Product:     123456, Price per unit:5.243.\n"
     ]
    }
   ],
   "source": [
    "age = 28\n",
    "name = \"Han ka hee\"\n",
    "print(\"I'm {0} years old.\".format(age))\n",
    "print(\"My name is {0} and {1} years old.\".format(name,age))\n",
    "print(\"Product: {0:10s}, Price per unit:{1:.3f}.\".format(\"Apple\",5.243))\n",
    "print(\"Product: {0:10d}, Price per unit:{1:.3f}.\".format(123456,5.243))"
   ]
  },
  {
   "cell_type": "code",
   "execution_count": 107,
   "id": "cbb58aed",
   "metadata": {},
   "outputs": [
    {
     "name": "stdout",
     "output_type": "stream",
     "text": [
      "I'm 28 years old.\n",
      "My name is Han ka hee and 28 years old.\n",
      "Product:      Apple, Price per unit:5.243.\n",
      "Product: 123456    , Price per unit:5.243.\n"
     ]
    }
   ],
   "source": [
    "age = 28\n",
    "name = \"Han ka hee\"\n",
    "print(\"I'm {0} years old.\".format(age))\n",
    "print(\"My name is {0} and {1} years old.\".format(name,age))\n",
    "print(\"Product: {0:>10s}, Price per unit:{1:.3f}.\".format(\"Apple\",5.243))\n",
    "print(\"Product: {0:<10d}, Price per unit:{1:.3f}.\".format(123456,5.243))"
   ]
  },
  {
   "cell_type": "markdown",
   "id": "59ed54d4",
   "metadata": {},
   "source": [
    "# 리스트"
   ]
  },
  {
   "cell_type": "code",
   "execution_count": 108,
   "id": "c5e088e0",
   "metadata": {},
   "outputs": [],
   "source": [
    "list_test = [1234, 'apple', 52.4]"
   ]
  },
  {
   "cell_type": "code",
   "execution_count": 109,
   "id": "c8dce4ed",
   "metadata": {},
   "outputs": [
    {
     "name": "stdout",
     "output_type": "stream",
     "text": [
      "<class 'int'>\n",
      "<class 'str'>\n",
      "<class 'float'>\n"
     ]
    }
   ],
   "source": [
    "for i in range(0, len(list_test)):\n",
    "    print(type(list_test[i]))"
   ]
  },
  {
   "cell_type": "code",
   "execution_count": 110,
   "id": "7ade783c",
   "metadata": {},
   "outputs": [
    {
     "name": "stdout",
     "output_type": "stream",
     "text": [
      "['서울', '부산', '인천', '대구', '대전', '광주']\n",
      "['서울', '부산', '인천', '대구', '대전', '광주', '울산', '수원']\n",
      "['서울', '부산', '인천', '대구', '대전', '광주', '울산', '수원']\n",
      "['서울', '인천', '대전', '울산']\n"
     ]
    }
   ],
   "source": [
    "cities = ['서울', '부산', '인천', '대구', '대전','광주','울산','수원']\n",
    "print(cities[0:6])\n",
    "print(cities[:])\n",
    "print(cities[-50:50])\n",
    "print(cities[::2])"
   ]
  },
  {
   "cell_type": "code",
   "execution_count": 111,
   "id": "71e92194",
   "metadata": {},
   "outputs": [
    {
     "name": "stdout",
     "output_type": "stream",
     "text": [
      "['red', 'blue', 'green', 'orange', 'black', 'white']\n"
     ]
    }
   ],
   "source": [
    "color = ['red','blue','green']\n",
    "color2 = ['orange','black','white']\n",
    "print(color+color2)"
   ]
  },
  {
   "cell_type": "code",
   "execution_count": 112,
   "id": "72f2cefb",
   "metadata": {},
   "outputs": [
    {
     "name": "stdout",
     "output_type": "stream",
     "text": [
      "3\n",
      "['yellow', 'blue', 'green', 'yellow', 'blue', 'green']\n"
     ]
    }
   ],
   "source": [
    "print(len(color))\n",
    "color[0]='yellow'\n",
    "print(color*2)"
   ]
  },
  {
   "cell_type": "code",
   "execution_count": 113,
   "id": "7b9e2006",
   "metadata": {},
   "outputs": [
    {
     "name": "stdout",
     "output_type": "stream",
     "text": [
      "False\n",
      "['yellow', 'blue', 'green', 'orange', 'black', 'white']\n"
     ]
    }
   ],
   "source": [
    "print('blue' in color2)\n",
    "total_color = color+color2\n",
    "print(total_color)"
   ]
  },
  {
   "cell_type": "code",
   "execution_count": 114,
   "id": "aa42508a",
   "metadata": {},
   "outputs": [],
   "source": [
    "color.append(3527)"
   ]
  },
  {
   "cell_type": "code",
   "execution_count": 120,
   "id": "ec7901a9",
   "metadata": {},
   "outputs": [
    {
     "name": "stdout",
     "output_type": "stream",
     "text": [
      "['yellow', 'blue', 'green', '3', '5', '2', '7']\n"
     ]
    }
   ],
   "source": [
    "print(color)"
   ]
  },
  {
   "cell_type": "code",
   "execution_count": 116,
   "id": "7faa31f5",
   "metadata": {},
   "outputs": [],
   "source": [
    "del color[3]"
   ]
  },
  {
   "cell_type": "code",
   "execution_count": 119,
   "id": "b9eacefe",
   "metadata": {},
   "outputs": [],
   "source": [
    "color.extend('3527')"
   ]
  },
  {
   "cell_type": "code",
   "execution_count": 121,
   "id": "2cd76a0f",
   "metadata": {},
   "outputs": [],
   "source": [
    "color = ['red','blue','green']"
   ]
  },
  {
   "cell_type": "code",
   "execution_count": 122,
   "id": "43f63fdf",
   "metadata": {},
   "outputs": [],
   "source": [
    "color.append('3527')"
   ]
  },
  {
   "cell_type": "code",
   "execution_count": 123,
   "id": "badc06ce",
   "metadata": {},
   "outputs": [
    {
     "name": "stdout",
     "output_type": "stream",
     "text": [
      "['red', 'blue', 'green', '3527']\n"
     ]
    }
   ],
   "source": [
    "print(color)"
   ]
  },
  {
   "cell_type": "code",
   "execution_count": 130,
   "id": "1f4fafef",
   "metadata": {},
   "outputs": [
    {
     "name": "stdout",
     "output_type": "stream",
     "text": [
      "[5, 4, 3, 2, 1]\n"
     ]
    }
   ],
   "source": [
    "a = [5,4,3,2,1] #0x01\n",
    "b = [1,2,3,4,5] #0x02\n",
    "b = a  #b에 a의 주소값 복사 #0x01\n",
    "print(b)"
   ]
  },
  {
   "cell_type": "code",
   "execution_count": 131,
   "id": "5e9c641e",
   "metadata": {},
   "outputs": [
    {
     "name": "stdout",
     "output_type": "stream",
     "text": [
      "[1, 2, 3, 4, 5]\n"
     ]
    }
   ],
   "source": [
    "a.sort() #정렬\n",
    "print(a)"
   ]
  },
  {
   "cell_type": "code",
   "execution_count": 132,
   "id": "a059cb30",
   "metadata": {},
   "outputs": [
    {
     "name": "stdout",
     "output_type": "stream",
     "text": [
      "[1, 2, 3, 4, 5]\n"
     ]
    }
   ],
   "source": [
    "print(b)"
   ]
  },
  {
   "cell_type": "code",
   "execution_count": 133,
   "id": "4aad20af",
   "metadata": {},
   "outputs": [
    {
     "name": "stdout",
     "output_type": "stream",
     "text": [
      "[1, 2, 3, 4, 5] [6, 7, 8, 9, 10]\n"
     ]
    }
   ],
   "source": [
    "b = [6,7,8,9,10]\n",
    "print(a,b)"
   ]
  },
  {
   "cell_type": "markdown",
   "id": "a1a1e385",
   "metadata": {},
   "source": [
    "## 패킹, 언패킹\n",
    "- 패킹: 한 변수에 여러개의 데이터를 넣는것\n",
    "- 언패킹: 한 변수의 데이터를 각각의 변수로 반환"
   ]
  },
  {
   "cell_type": "code",
   "execution_count": 134,
   "id": "bc5e8f90",
   "metadata": {},
   "outputs": [
    {
     "name": "stdout",
     "output_type": "stream",
     "text": [
      "[1, 2, 3] 1 2 3\n"
     ]
    }
   ],
   "source": [
    "t = [1,2,3]  #패킹\n",
    "a ,b ,c = t   #언패킹\n",
    "print(t,a,b,c)"
   ]
  },
  {
   "cell_type": "code",
   "execution_count": 137,
   "id": "35d8ceaf",
   "metadata": {},
   "outputs": [
    {
     "name": "stdout",
     "output_type": "stream",
     "text": [
      "<class 'list'>\n"
     ]
    }
   ],
   "source": [
    "print(type(t))"
   ]
  },
  {
   "cell_type": "code",
   "execution_count": 138,
   "id": "304df786",
   "metadata": {},
   "outputs": [
    {
     "name": "stdout",
     "output_type": "stream",
     "text": [
      "<class 'int'>\n"
     ]
    }
   ],
   "source": [
    "print(type(a))"
   ]
  },
  {
   "cell_type": "code",
   "execution_count": 142,
   "id": "0c44fcc8",
   "metadata": {},
   "outputs": [],
   "source": [
    "test = 4,5,6"
   ]
  },
  {
   "cell_type": "code",
   "execution_count": 143,
   "id": "4b77bf05",
   "metadata": {},
   "outputs": [
    {
     "name": "stdout",
     "output_type": "stream",
     "text": [
      "<class 'tuple'> (4, 5, 6)\n"
     ]
    }
   ],
   "source": [
    "print(type(test),test)   #튜플"
   ]
  },
  {
   "cell_type": "code",
   "execution_count": 145,
   "id": "09acbc77",
   "metadata": {},
   "outputs": [
    {
     "name": "stdout",
     "output_type": "stream",
     "text": [
      "(4, 5, 6) 4 5 6\n"
     ]
    }
   ],
   "source": [
    "d,e,f = test\n",
    "print(test,d,e,f)"
   ]
  },
  {
   "cell_type": "code",
   "execution_count": 136,
   "id": "b31d4d15",
   "metadata": {},
   "outputs": [
    {
     "name": "stdout",
     "output_type": "stream",
     "text": [
      "20\n"
     ]
    }
   ],
   "source": [
    "#패킹에제\n",
    "\n",
    "kor_score = [49,79,20,100,80]\n",
    "math_score = [43,59,85,30,90]\n",
    "eng_score = [49,79,48,60,100]\n",
    "midterm_score=[kor_score,math_score,eng_score]\n",
    "print(midterm_score[0][2])\n"
   ]
  },
  {
   "cell_type": "markdown",
   "id": "4c7d1145",
   "metadata": {},
   "source": [
    "# 조건문"
   ]
  },
  {
   "cell_type": "code",
   "execution_count": 147,
   "id": "e9363532",
   "metadata": {},
   "outputs": [
    {
     "name": "stdout",
     "output_type": "stream",
     "text": [
      "몇 살 입니까?\n",
      "32\n",
      "돌아가\n"
     ]
    }
   ],
   "source": [
    "print(\"몇 살 입니까?\")\n",
    "나이 = int(input())\n",
    "\n",
    "if 나이 < 30: \n",
    "    print(\"들어왕\")\n",
    "else:\n",
    "    print(\"돌아가\")"
   ]
  },
  {
   "cell_type": "code",
   "execution_count": 148,
   "id": "188d7294",
   "metadata": {},
   "outputs": [],
   "source": [
    "a = 10\n",
    "b = '10'"
   ]
  },
  {
   "cell_type": "code",
   "execution_count": 149,
   "id": "e8d1b357",
   "metadata": {},
   "outputs": [
    {
     "name": "stdout",
     "output_type": "stream",
     "text": [
      "10 10\n"
     ]
    }
   ],
   "source": [
    "print(a,b)"
   ]
  },
  {
   "cell_type": "code",
   "execution_count": 154,
   "id": "983b2bef",
   "metadata": {},
   "outputs": [
    {
     "name": "stdout",
     "output_type": "stream",
     "text": [
      "1791854471600 1791854471600\n"
     ]
    }
   ],
   "source": [
    "a = 5\n",
    "b = 5\n",
    "print(id(a), id(b))"
   ]
  },
  {
   "cell_type": "code",
   "execution_count": 155,
   "id": "5dfd331b",
   "metadata": {},
   "outputs": [
    {
     "name": "stdout",
     "output_type": "stream",
     "text": [
      "1791854471760 1791854471600\n"
     ]
    }
   ],
   "source": [
    "a = 10\n",
    "print(id(a), id(b))"
   ]
  },
  {
   "cell_type": "code",
   "execution_count": 156,
   "id": "a1b954aa",
   "metadata": {},
   "outputs": [
    {
     "name": "stdout",
     "output_type": "stream",
     "text": [
      "0x1a132d969b0 0x1a132d969b0\n",
      "0x1a132d96a70\n"
     ]
    }
   ],
   "source": [
    "a = 5\n",
    "b = 5\n",
    "print(hex(id(a)), hex(id(b)))\n",
    "a = 10\n",
    "c = 10\n",
    "a +=1\n",
    "print(hex(id(a)))"
   ]
  },
  {
   "cell_type": "markdown",
   "id": "547fcbfc",
   "metadata": {},
   "source": [
    "## 반복문"
   ]
  },
  {
   "cell_type": "code",
   "execution_count": 158,
   "id": "dce0b1eb",
   "metadata": {},
   "outputs": [
    {
     "name": "stdout",
     "output_type": "stream",
     "text": [
      "hello\n",
      "hello\n",
      "hello\n",
      "hello\n",
      "hello\n"
     ]
    }
   ],
   "source": [
    "for looper in [1,2,3,4,5]:\n",
    "    print(\"hello\")\n"
   ]
  },
  {
   "cell_type": "code",
   "execution_count": 160,
   "id": "cb4088ec",
   "metadata": {},
   "outputs": [
    {
     "name": "stdout",
     "output_type": "stream",
     "text": [
      "hello\n",
      "hello\n",
      "hello\n",
      "hello\n",
      "hello\n"
     ]
    }
   ],
   "source": [
    "for looper in range(0,5):\n",
    "    print(\"hello\")"
   ]
  },
  {
   "cell_type": "code",
   "execution_count": 166,
   "id": "1b9a45b4",
   "metadata": {},
   "outputs": [
    {
     "name": "stdout",
     "output_type": "stream",
     "text": [
      "Americano\n",
      "Latte\n",
      "frafuchino\n"
     ]
    }
   ],
   "source": [
    "for i in ['Americano', 'Latte', 'frafuchino']:\n",
    "    print(i)"
   ]
  },
  {
   "cell_type": "code",
   "execution_count": 164,
   "id": "3ad75b4f",
   "metadata": {},
   "outputs": [
    {
     "name": "stdout",
     "output_type": "stream",
     "text": [
      "A\n",
      "m\n",
      "e\n",
      "r\n",
      "i\n",
      "c\n",
      "a\n",
      "n\n",
      "o\n",
      "L\n",
      "a\n",
      "t\n",
      "t\n",
      "e\n",
      "f\n",
      "r\n",
      "a\n",
      "f\n",
      "u\n",
      "c\n",
      "h\n",
      "i\n",
      "n\n",
      "o\n"
     ]
    }
   ],
   "source": [
    "for i in ['Americano', 'Latte', 'frafuchino']:\n",
    "    for ii in i:\n",
    "        print(ii)"
   ]
  },
  {
   "cell_type": "code",
   "execution_count": 167,
   "id": "e67e8089",
   "metadata": {},
   "outputs": [
    {
     "name": "stdout",
     "output_type": "stream",
     "text": [
      "0 1 2 3 4 5 6 7 8 9 "
     ]
    }
   ],
   "source": [
    "i=0\n",
    "while i<10:\n",
    "    print(i, end=' ')\n",
    "    i=i+1"
   ]
  },
  {
   "cell_type": "markdown",
   "id": "a79b5ed5",
   "metadata": {},
   "source": [
    "### 반복문의 제어 - break, continue"
   ]
  },
  {
   "cell_type": "markdown",
   "id": "8908975d",
   "metadata": {},
   "source": [
    "#### break 특정 조건에서 반복 종료"
   ]
  },
  {
   "cell_type": "code",
   "execution_count": 169,
   "id": "431e3251",
   "metadata": {},
   "outputs": [
    {
     "name": "stdout",
     "output_type": "stream",
     "text": [
      "0\n",
      "1\n",
      "2\n",
      "3\n",
      "4\n",
      "EOP\n"
     ]
    }
   ],
   "source": [
    "for i in range(10):\n",
    "    if i == 5:\n",
    "        break\n",
    "    print(i)\n",
    "print('EOP')"
   ]
  },
  {
   "cell_type": "markdown",
   "id": "59122ec3",
   "metadata": {},
   "source": [
    "#### continue 특정 조건에서 반복 종료"
   ]
  },
  {
   "cell_type": "code",
   "execution_count": 170,
   "id": "78dcf53e",
   "metadata": {},
   "outputs": [
    {
     "name": "stdout",
     "output_type": "stream",
     "text": [
      "0\n",
      "1\n",
      "2\n",
      "3\n",
      "4\n",
      "6\n",
      "7\n",
      "8\n",
      "9\n",
      "EOP\n"
     ]
    }
   ],
   "source": [
    "for i in range(10):\n",
    "    if i == 5:\n",
    "        continue\n",
    "    print(i)\n",
    "print('EOP')"
   ]
  },
  {
   "cell_type": "markdown",
   "id": "81acff58",
   "metadata": {},
   "source": [
    "### 반복의 제어 - else\n",
    "#### 반복 조건이 만족하지 않을 경우 반복 종료 시 1회 수행"
   ]
  },
  {
   "cell_type": "code",
   "execution_count": 171,
   "id": "96f2e0e2",
   "metadata": {},
   "outputs": [
    {
     "name": "stdout",
     "output_type": "stream",
     "text": [
      "0\n",
      "1\n",
      "2\n",
      "3\n",
      "4\n",
      "5\n",
      "6\n",
      "7\n",
      "8\n",
      "9\n",
      "EOP\n"
     ]
    }
   ],
   "source": [
    "for i in range(10):\n",
    "    print(i)\n",
    "else:\n",
    "    print('EOP')"
   ]
  },
  {
   "cell_type": "code",
   "execution_count": 172,
   "id": "db9f59ab",
   "metadata": {},
   "outputs": [
    {
     "name": "stdout",
     "output_type": "stream",
     "text": [
      "0\n",
      "1\n",
      "2\n",
      "3\n",
      "4\n",
      "5\n",
      "6\n",
      "7\n",
      "8\n",
      "9\n",
      "EOP\n"
     ]
    }
   ],
   "source": [
    "i=0\n",
    "while i < 10:\n",
    "    print(i,)\n",
    "    i+=1\n",
    "else:\n",
    "    print('EOP')"
   ]
  },
  {
   "cell_type": "markdown",
   "id": "41f595f6",
   "metadata": {},
   "source": [
    "#### break로 종료된 반복문은 else block이 수행되지 않음"
   ]
  },
  {
   "cell_type": "markdown",
   "id": "89933536",
   "metadata": {},
   "source": [
    "# 함수(function)"
   ]
  },
  {
   "cell_type": "code",
   "execution_count": 175,
   "id": "408b5d59",
   "metadata": {},
   "outputs": [],
   "source": [
    "def adder(x1,x2):#(x1,x2):파라미터\n",
    "    a= x1+x2\n",
    "    return a"
   ]
  },
  {
   "cell_type": "code",
   "execution_count": 176,
   "id": "31a6cad6",
   "metadata": {},
   "outputs": [
    {
     "data": {
      "text/plain": [
       "7"
      ]
     },
     "execution_count": 176,
     "metadata": {},
     "output_type": "execute_result"
    }
   ],
   "source": [
    "adder(3,4)"
   ]
  },
  {
   "cell_type": "code",
   "execution_count": 177,
   "id": "4b5fa67c",
   "metadata": {},
   "outputs": [],
   "source": [
    "def printer():\n",
    "    print(\"다음에 다시만나요\") #return 없는 함수"
   ]
  },
  {
   "cell_type": "code",
   "execution_count": 178,
   "id": "5a1e484e",
   "metadata": {},
   "outputs": [
    {
     "name": "stdout",
     "output_type": "stream",
     "text": [
      "다음에 다시만나요\n"
     ]
    }
   ],
   "source": [
    "printer()"
   ]
  },
  {
   "cell_type": "code",
   "execution_count": 1,
   "id": "90225928",
   "metadata": {},
   "outputs": [
    {
     "name": "stdout",
     "output_type": "stream",
     "text": [
      "사각형 x의 길이:  10\n",
      "사각형 y의 길이:  20\n",
      "사각형의 넓이:  200\n"
     ]
    }
   ],
   "source": [
    "def calculate_rectangle_area(x,y):  # 3. 함수 수행\n",
    "    return x*y\n",
    "\n",
    "rectangle_x = 10\n",
    "rectangle_y = 20                           # 1. 메인 프로그램 수행\n",
    "print(\"사각형 x의 길이: \", rectangle_x)\n",
    "print(\"사각형 y의 길이: \", rectangle_y)\n",
    "\n",
    "print(\"사각형의 넓이: \", # 4. 메인 프로그램 수행\n",
    "      calculate_rectangle_area(rectangle_x,rectangle_y)) # 2. 함수호출"
   ]
  },
  {
   "cell_type": "code",
   "execution_count": 2,
   "id": "ff2fd619",
   "metadata": {},
   "outputs": [
    {
     "name": "stdout",
     "output_type": "stream",
     "text": [
      "35\n",
      "35\n",
      "35\n",
      "35\n"
     ]
    }
   ],
   "source": [
    "def a_rectangle_area():\n",
    "    print(5*7)\n",
    "def b_rectangle_area(x,y):\n",
    "    print(x*y)\n",
    "def c_rectangle_area():\n",
    "    return(5*7)\n",
    "def d_rectangle_area(x,y):\n",
    "    return(x*y)\n",
    "\n",
    "a_rectangle_area()\n",
    "b_rectangle_area(5,7)\n",
    "\n",
    "print(c_rectangle_area())\n",
    "print(d_rectangle_area(5,7))"
   ]
  },
  {
   "cell_type": "markdown",
   "id": "c303ad92",
   "metadata": {},
   "source": [
    "### 함수 호출 방식 개요\n",
    "- Call by Value: 함수에 인자를 넘길 때 값만 넘김. 함수내에 인자값 변경시, 호출자에게 영향을 주지 않음\n",
    "\n",
    "- Call by Reference: 함수에 인자를 넘길 때 주소값을 넘김"
   ]
  },
  {
   "cell_type": "code",
   "execution_count": 5,
   "id": "7cb1f5e6",
   "metadata": {},
   "outputs": [
    {
     "name": "stdout",
     "output_type": "stream",
     "text": [
      "0x1fab65a79c0\n",
      "0x1fab65a79c0\n",
      "[10, 2, 3]\n"
     ]
    }
   ],
   "source": [
    "#Call by Reference\n",
    "\n",
    "def foo(a):\n",
    "    a[0] = 10\n",
    "    print(hex(id(a)))\n",
    "\n",
    "a = [1,2,3]\n",
    "print(hex(id(a)))\n",
    "foo(a)\n",
    "print(a)"
   ]
  },
  {
   "cell_type": "code",
   "execution_count": 4,
   "id": "b85f507c",
   "metadata": {},
   "outputs": [
    {
     "name": "stdout",
     "output_type": "stream",
     "text": [
      "0x1fab65a6bc0\n",
      "0x1fab1796a50\n"
     ]
    }
   ],
   "source": [
    "print(hex(id(a)))\n",
    "print(hex(id(a[0])))"
   ]
  },
  {
   "cell_type": "markdown",
   "id": "e6957185",
   "metadata": {},
   "source": [
    "### 변수의 범위\n",
    "변수가 사용되는 범위(함수 또는 메인 프로그램)\n",
    "- 지역변수: 함수 내에서 사용\n",
    "- 전역변수: 프로그램 전체에서 사용"
   ]
  },
  {
   "cell_type": "code",
   "execution_count": 9,
   "id": "4854a647",
   "metadata": {},
   "outputs": [
    {
     "name": "stdout",
     "output_type": "stream",
     "text": [
      "[0, 1]\n"
     ]
    }
   ],
   "source": [
    "def spam(eggs):\n",
    "    eggs.append(1)\n",
    "    eggs = [2,3]\n",
    "\n",
    "ham = [0]\n",
    "spam(ham)\n",
    "print(ham)"
   ]
  },
  {
   "cell_type": "code",
   "execution_count": 12,
   "id": "12f44ad1",
   "metadata": {},
   "outputs": [
    {
     "name": "stdout",
     "output_type": "stream",
     "text": [
      "Before : 10\n",
      "30\n",
      "In Function : 20\n",
      "After : 10\n"
     ]
    }
   ],
   "source": [
    "def test(t):\n",
    "    x= 30\n",
    "    print(x)\n",
    "    t= 20\n",
    "    print(\"In Function :\",t)\n",
    "    \n",
    "x = 10\n",
    "print(\"Before :\",x)\n",
    "test(x)\n",
    "print(\"After :\",x)\n"
   ]
  },
  {
   "cell_type": "code",
   "execution_count": 10,
   "id": "db812258",
   "metadata": {},
   "outputs": [
    {
     "name": "stdout",
     "output_type": "stream",
     "text": [
      "10\n",
      "In Fuction: 20\n"
     ]
    },
    {
     "ename": "NameError",
     "evalue": "name 't' is not defined",
     "output_type": "error",
     "traceback": [
      "\u001b[1;31m---------------------------------------------------------------------------\u001b[0m",
      "\u001b[1;31mNameError\u001b[0m                                 Traceback (most recent call last)",
      "Cell \u001b[1;32mIn[10], line 8\u001b[0m\n\u001b[0;32m      6\u001b[0m x \u001b[38;5;241m=\u001b[39m \u001b[38;5;241m10\u001b[39m\n\u001b[0;32m      7\u001b[0m test(x)\n\u001b[1;32m----> 8\u001b[0m \u001b[38;5;28mprint\u001b[39m(\u001b[43mt\u001b[49m)\n",
      "\u001b[1;31mNameError\u001b[0m: name 't' is not defined"
     ]
    }
   ],
   "source": [
    "def test(t):\n",
    "    print(x)\n",
    "    t = 20\n",
    "    print(\"In Fuction:\",t)\n",
    "\n",
    "x = 10\n",
    "test(x)\n",
    "print(t)"
   ]
  },
  {
   "cell_type": "markdown",
   "id": "ca0bd1d1",
   "metadata": {},
   "source": [
    "함수 내에서 전역변수 사용 시 global 키워드 사용"
   ]
  },
  {
   "cell_type": "code",
   "execution_count": 17,
   "id": "161a9a94",
   "metadata": {},
   "outputs": [
    {
     "name": "stdout",
     "output_type": "stream",
     "text": [
      "I love London!\n",
      "I love London!\n"
     ]
    }
   ],
   "source": [
    "def f():\n",
    "    global s #지역변수가 아니라 전역변수로 선언\n",
    "    s = \"I love London!\" \n",
    "    print(s)\n",
    "    \n",
    "s = \"I love Paris!\"\n",
    "f()\n",
    "print(s)"
   ]
  },
  {
   "cell_type": "markdown",
   "id": "c5d4d0eb",
   "metadata": {},
   "source": [
    "#### 변수의 범위"
   ]
  },
  {
   "cell_type": "code",
   "execution_count": 21,
   "id": "8300a020",
   "metadata": {},
   "outputs": [
    {
     "name": "stdout",
     "output_type": "stream",
     "text": [
      "In program -1\n",
      "a: 5 b: 7 a+b 12\n",
      "In Function\n",
      "a: 5 b: 7 a+b: 12 total: 12\n",
      "After Calculation\n",
      "Total : 0 Sum 12\n"
     ]
    }
   ],
   "source": [
    "def calculate(x,y):\n",
    "    total = x + y\n",
    "    print(\"In Function\")\n",
    "    print(\"a:\",str(a),\"b:\",str(b),\"a+b:\", str(a+b),\"total:\",str(total))\n",
    "    return total #주소값 return\n",
    "\n",
    "a=5\n",
    "b=7\n",
    "total=0\n",
    "print(\"In program -1\")\n",
    "print(\"a:\",str(a),\"b:\",str(b),\"a+b\", str(a+b))\n",
    "sum = calculate(a,b)\n",
    "print(\"After Calculation\")\n",
    "print(\"Total :\",str(total),\"Sum\",str(sum))"
   ]
  },
  {
   "cell_type": "markdown",
   "id": "cae8093e",
   "metadata": {},
   "source": [
    "### Keyword arguments\n",
    "함수에 입력되는 parameter의 변수명을 사용, arguments를 넘김"
   ]
  },
  {
   "cell_type": "code",
   "execution_count": 24,
   "id": "865ea21f",
   "metadata": {},
   "outputs": [
    {
     "name": "stdout",
     "output_type": "stream",
     "text": [
      "Hello group, My name is Hong\n",
      "Hello Hong, My name is group\n"
     ]
    }
   ],
   "source": [
    "def print_something(my_name,your_name):\n",
    "    print(\"Hello {0}, My name is {1}\".format(your_name,my_name))\n",
    "\n",
    "print_something(\"Hong\",\"group\")\n",
    "print_something(your_name=\"Hong\", my_name=\"group\")"
   ]
  },
  {
   "cell_type": "markdown",
   "id": "70b62d97",
   "metadata": {},
   "source": [
    "### Default arguments\n",
    "parameter의 기본값을 사용, 입력하지 않을 경우 기본값 출력"
   ]
  },
  {
   "cell_type": "code",
   "execution_count": 26,
   "id": "d7421f86",
   "metadata": {},
   "outputs": [
    {
     "name": "stdout",
     "output_type": "stream",
     "text": [
      "Hello none name, My name is Hong\n",
      "Hello group, My name is Hong\n"
     ]
    }
   ],
   "source": [
    "def print_something(my_name,your_name='none name'):\n",
    "    print(\"Hello {0}, My name is {1}\".format(your_name,my_name))\n",
    "    \n",
    "print_something(\"Hong\",)\n",
    "print_something(your_name=\"group\", my_name=\"Hong\")"
   ]
  },
  {
   "cell_type": "markdown",
   "id": "746cd1e9",
   "metadata": {},
   "source": [
    "### 가변인자(variable-length)\n",
    "- 개수가 정해지지 않은 변수를 함수의 parameter로 사용하는 법\n",
    "- Keyword arguments와 함께, arguments 추가가 가능\n",
    "- Asterisk(*) 기호를 사용하여 함수의 parameter를 표시함\n",
    "- 입력된 값은 tupletype으로 사용할 수 있음\n",
    "- 가변인자는 오직 한개만 맨 마지막 parameter 위치에 사용 가능\n",
    "- 가변인자는 일반적으로 *args를 변수명으로 사용\n",
    "- 기존 parameter 이후에 나오는 값을 tuple로 저장함"
   ]
  },
  {
   "cell_type": "code",
   "execution_count": 4,
   "id": "aed5b39c",
   "metadata": {},
   "outputs": [
    {
     "name": "stdout",
     "output_type": "stream",
     "text": [
      "(3, 4, 5, 6, 7, 8, 9)\n",
      "45\n"
     ]
    }
   ],
   "source": [
    "def asterisk_test(a,b,*args):\n",
    "    print(args)\n",
    "    return a+b+sum(args)\n",
    "\n",
    "print(asterisk_test(1,2,3,4,5,6,7,8,9))"
   ]
  },
  {
   "cell_type": "markdown",
   "id": "12ec215e",
   "metadata": {},
   "source": [
    "#### 키워드 가변인자\n",
    "- parameter 이름을 따로 지정하지 않고 입력하는 방법\n",
    "- Asterisk(*) 두개를 사용하여 함수의 parameter를 표시함\n",
    "- 입력된 값은 dicttype으로 사용할 수 있음\n",
    "- 가변인자는 오직 한개만 기존 가변인자 다음에 사용"
   ]
  },
  {
   "cell_type": "code",
   "execution_count": 6,
   "id": "9223efe4",
   "metadata": {},
   "outputs": [],
   "source": [
    "def kwargs_test_1(**kwargs):\n",
    "    print(kwargs)\n",
    "    \n",
    "def kwargs_test_2(**kwargs):\n",
    "    print(kwargs)\n",
    "    print(\"First value is {first}\".format(**kwargs))\n",
    "    print(\"Second value is {second}\".format(**kwargs))\n",
    "    print(\"Third value is {third}\".format(**kwargs))"
   ]
  },
  {
   "cell_type": "code",
   "execution_count": 9,
   "id": "5a58aee8",
   "metadata": {},
   "outputs": [
    {
     "name": "stdout",
     "output_type": "stream",
     "text": [
      "{'a': 1, 'b': 2, 'c': 3}\n"
     ]
    }
   ],
   "source": [
    "kwargs_test_1(a=1,b=2,c=3) #{key:value}"
   ]
  },
  {
   "cell_type": "code",
   "execution_count": 11,
   "id": "95c9a974",
   "metadata": {},
   "outputs": [
    {
     "name": "stdout",
     "output_type": "stream",
     "text": [
      "{'first': 1, 'second': 2, 'third': 3}\n",
      "First value is 1\n",
      "Second value is 2\n",
      "Third value is 3\n"
     ]
    }
   ],
   "source": [
    "kwargs_test_2(first=1,second=2,third=3) #{key:value}"
   ]
  },
  {
   "cell_type": "code",
   "execution_count": 12,
   "id": "ab0483b8",
   "metadata": {},
   "outputs": [
    {
     "name": "stdout",
     "output_type": "stream",
     "text": [
      "{'a': 1, 'b': 2, 'c': 3}\n"
     ]
    },
    {
     "ename": "KeyError",
     "evalue": "'first'",
     "output_type": "error",
     "traceback": [
      "\u001b[1;31m---------------------------------------------------------------------------\u001b[0m",
      "\u001b[1;31mKeyError\u001b[0m                                  Traceback (most recent call last)",
      "Cell \u001b[1;32mIn[12], line 1\u001b[0m\n\u001b[1;32m----> 1\u001b[0m \u001b[43mkwargs_test_2\u001b[49m\u001b[43m(\u001b[49m\u001b[43ma\u001b[49m\u001b[38;5;241;43m=\u001b[39;49m\u001b[38;5;241;43m1\u001b[39;49m\u001b[43m,\u001b[49m\u001b[43mb\u001b[49m\u001b[38;5;241;43m=\u001b[39;49m\u001b[38;5;241;43m2\u001b[39;49m\u001b[43m,\u001b[49m\u001b[43mc\u001b[49m\u001b[38;5;241;43m=\u001b[39;49m\u001b[38;5;241;43m3\u001b[39;49m\u001b[43m)\u001b[49m \u001b[38;5;66;03m#{key:value}\u001b[39;00m\n",
      "Cell \u001b[1;32mIn[6], line 6\u001b[0m, in \u001b[0;36mkwargs_test_2\u001b[1;34m(**kwargs)\u001b[0m\n\u001b[0;32m      4\u001b[0m \u001b[38;5;28;01mdef\u001b[39;00m \u001b[38;5;21mkwargs_test_2\u001b[39m(\u001b[38;5;241m*\u001b[39m\u001b[38;5;241m*\u001b[39mkwargs):\n\u001b[0;32m      5\u001b[0m     \u001b[38;5;28mprint\u001b[39m(kwargs)\n\u001b[1;32m----> 6\u001b[0m     \u001b[38;5;28mprint\u001b[39m(\u001b[38;5;124m\"\u001b[39m\u001b[38;5;124mFirst value is \u001b[39m\u001b[38;5;132;01m{first}\u001b[39;00m\u001b[38;5;124m\"\u001b[39m\u001b[38;5;241m.\u001b[39mformat(\u001b[38;5;241m*\u001b[39m\u001b[38;5;241m*\u001b[39mkwargs))\n\u001b[0;32m      7\u001b[0m     \u001b[38;5;28mprint\u001b[39m(\u001b[38;5;124m\"\u001b[39m\u001b[38;5;124mSecond value is \u001b[39m\u001b[38;5;132;01m{second}\u001b[39;00m\u001b[38;5;124m\"\u001b[39m\u001b[38;5;241m.\u001b[39mformat(\u001b[38;5;241m*\u001b[39m\u001b[38;5;241m*\u001b[39mkwargs))\n\u001b[0;32m      8\u001b[0m     \u001b[38;5;28mprint\u001b[39m(\u001b[38;5;124m\"\u001b[39m\u001b[38;5;124mThird value is \u001b[39m\u001b[38;5;132;01m{third}\u001b[39;00m\u001b[38;5;124m\"\u001b[39m\u001b[38;5;241m.\u001b[39mformat(\u001b[38;5;241m*\u001b[39m\u001b[38;5;241m*\u001b[39mkwargs))\n",
      "\u001b[1;31mKeyError\u001b[0m: 'first'"
     ]
    }
   ],
   "source": [
    "kwargs_test_2(a=1,b=2,c=3) #{key:value}"
   ]
  },
  {
   "cell_type": "markdown",
   "id": "52a1a62f",
   "metadata": {},
   "source": [
    "# 인덱싱(Indexing)"
   ]
  },
  {
   "cell_type": "code",
   "execution_count": 13,
   "id": "61c903fd",
   "metadata": {},
   "outputs": [
    {
     "name": "stdout",
     "output_type": "stream",
     "text": [
      "a e\n",
      "e a\n"
     ]
    }
   ],
   "source": [
    "a = \"abcde\"\n",
    "print(a[0],a[4])\n",
    "print(a[-1],a[-5])"
   ]
  },
  {
   "cell_type": "markdown",
   "id": "8fce2811",
   "metadata": {},
   "source": [
    "# 슬라이싱(slicing)"
   ]
  },
  {
   "cell_type": "code",
   "execution_count": 24,
   "id": "3ba5cb1a",
   "metadata": {},
   "outputs": [
    {
     "name": "stdout",
     "output_type": "stream",
     "text": [
      "a c\n",
      "Hello  AND  Python!!\n",
      "Hello Python!!\n",
      "Hello Python!!\n",
      "HloPto! AND !!nohtyP\n"
     ]
    }
   ],
   "source": [
    "a = \"Hello Python!!\"\n",
    "\n",
    "print(\"a\",\"c\")\n",
    "print(a[0:6],\"AND\",a[-9:])\n",
    "print(a[:])\n",
    "print(a[-50:50])\n",
    "print(a[::2],\"AND\",a[-1:-9:-1])"
   ]
  },
  {
   "cell_type": "markdown",
   "id": "03b7f241",
   "metadata": {},
   "source": [
    "문자열 함수\n"
   ]
  },
  {
   "cell_type": "code",
   "execution_count": 25,
   "id": "560809df",
   "metadata": {},
   "outputs": [],
   "source": [
    "a = \"String\""
   ]
  },
  {
   "cell_type": "code",
   "execution_count": 26,
   "id": "bb8aace2",
   "metadata": {},
   "outputs": [
    {
     "data": {
      "text/plain": [
       "6"
      ]
     },
     "execution_count": 26,
     "metadata": {},
     "output_type": "execute_result"
    }
   ],
   "source": [
    "len(a)"
   ]
  },
  {
   "cell_type": "code",
   "execution_count": 29,
   "id": "4271d9b7",
   "metadata": {},
   "outputs": [
    {
     "data": {
      "text/plain": [
       "'STRING'"
      ]
     },
     "execution_count": 29,
     "metadata": {},
     "output_type": "execute_result"
    }
   ],
   "source": [
    "a.upper()"
   ]
  },
  {
   "cell_type": "code",
   "execution_count": 37,
   "id": "623304ce",
   "metadata": {},
   "outputs": [],
   "source": [
    "a=a.lower()"
   ]
  },
  {
   "cell_type": "code",
   "execution_count": 38,
   "id": "ed31b586",
   "metadata": {},
   "outputs": [
    {
     "name": "stdout",
     "output_type": "stream",
     "text": [
      "string\n"
     ]
    }
   ],
   "source": [
    "print(a)"
   ]
  },
  {
   "cell_type": "code",
   "execution_count": 35,
   "id": "43d0b34c",
   "metadata": {},
   "outputs": [
    {
     "name": "stdout",
     "output_type": "stream",
     "text": [
      "String\n"
     ]
    }
   ],
   "source": [
    "a = a.capitalize()\n",
    "print(a)"
   ]
  },
  {
   "cell_type": "code",
   "execution_count": 39,
   "id": "8ba99cad",
   "metadata": {},
   "outputs": [
    {
     "data": {
      "text/plain": [
       "'String'"
      ]
     },
     "execution_count": 39,
     "metadata": {},
     "output_type": "execute_result"
    }
   ],
   "source": [
    "a.title()"
   ]
  },
  {
   "cell_type": "code",
   "execution_count": 62,
   "id": "12da2466",
   "metadata": {},
   "outputs": [],
   "source": [
    "b = \"show me the money. I have a cookie\""
   ]
  },
  {
   "cell_type": "code",
   "execution_count": 41,
   "id": "2b3d1148",
   "metadata": {},
   "outputs": [
    {
     "data": {
      "text/plain": [
       "'Show Me The Money'"
      ]
     },
     "execution_count": 41,
     "metadata": {},
     "output_type": "execute_result"
    }
   ],
   "source": [
    "b.title()"
   ]
  },
  {
   "cell_type": "code",
   "execution_count": 43,
   "id": "d4ed55d0",
   "metadata": {},
   "outputs": [
    {
     "data": {
      "text/plain": [
       "1"
      ]
     },
     "execution_count": 43,
     "metadata": {},
     "output_type": "execute_result"
    }
   ],
   "source": [
    "b.count('show')"
   ]
  },
  {
   "cell_type": "code",
   "execution_count": 44,
   "id": "9d87f357",
   "metadata": {},
   "outputs": [
    {
     "data": {
      "text/plain": [
       "8"
      ]
     },
     "execution_count": 44,
     "metadata": {},
     "output_type": "execute_result"
    }
   ],
   "source": [
    "b.find('the')"
   ]
  },
  {
   "cell_type": "code",
   "execution_count": 55,
   "id": "79a8bb47",
   "metadata": {},
   "outputs": [],
   "source": [
    "c = \"show show show show\""
   ]
  },
  {
   "cell_type": "code",
   "execution_count": 56,
   "id": "dd41ab5a",
   "metadata": {},
   "outputs": [
    {
     "name": "stdout",
     "output_type": "stream",
     "text": [
      "0\n",
      "15\n"
     ]
    }
   ],
   "source": [
    "print(c.find('show')) #맨 처음에서 부터\n",
    "print(c.rfind('show')) #맨 뒤에서 부터"
   ]
  },
  {
   "cell_type": "code",
   "execution_count": 63,
   "id": "e3afc5c6",
   "metadata": {},
   "outputs": [
    {
     "data": {
      "text/plain": [
       "True"
      ]
     },
     "execution_count": 63,
     "metadata": {},
     "output_type": "execute_result"
    }
   ],
   "source": [
    "b.startswith('show')"
   ]
  },
  {
   "cell_type": "code",
   "execution_count": 64,
   "id": "4f601590",
   "metadata": {},
   "outputs": [
    {
     "data": {
      "text/plain": [
       "False"
      ]
     },
     "execution_count": 64,
     "metadata": {},
     "output_type": "execute_result"
    }
   ],
   "source": [
    "b.endswith('money')"
   ]
  },
  {
   "cell_type": "code",
   "execution_count": 65,
   "id": "2b8bd18a",
   "metadata": {},
   "outputs": [
    {
     "data": {
      "text/plain": [
       "True"
      ]
     },
     "execution_count": 65,
     "metadata": {},
     "output_type": "execute_result"
    }
   ],
   "source": [
    "b.endswith('cookie')"
   ]
  },
  {
   "cell_type": "markdown",
   "id": "3b5f5201",
   "metadata": {},
   "source": [
    "# 튜플(tuple)\n",
    "- 값의 변경이 불가능한 리스트\n",
    "- 선언 시 \"[]\"가 아닌 \"()\"를 사용\n",
    "- 리스트의 연산, 인덱싱.슬라이싱 등을 동일하게 사용"
   ]
  },
  {
   "cell_type": "code",
   "execution_count": 66,
   "id": "dc686970",
   "metadata": {},
   "outputs": [
    {
     "name": "stdout",
     "output_type": "stream",
     "text": [
      "(1, 2, 3, 1, 2, 3) (1, 2, 3, 1, 2, 3)\n",
      "3\n"
     ]
    }
   ],
   "source": [
    "t = (1,2,3)\n",
    "print(t+t, t*2)\n",
    "print(len(t))"
   ]
  },
  {
   "cell_type": "code",
   "execution_count": 68,
   "id": "852cce04",
   "metadata": {},
   "outputs": [
    {
     "name": "stdout",
     "output_type": "stream",
     "text": [
      "(1, 2)\n"
     ]
    }
   ],
   "source": [
    "print(t[0:2])"
   ]
  },
  {
   "cell_type": "code",
   "execution_count": 70,
   "id": "e9a537d5",
   "metadata": {},
   "outputs": [
    {
     "ename": "TypeError",
     "evalue": "'tuple' object does not support item assignment",
     "output_type": "error",
     "traceback": [
      "\u001b[1;31m---------------------------------------------------------------------------\u001b[0m",
      "\u001b[1;31mTypeError\u001b[0m                                 Traceback (most recent call last)",
      "Cell \u001b[1;32mIn[70], line 1\u001b[0m\n\u001b[1;32m----> 1\u001b[0m \u001b[43mt\u001b[49m\u001b[43m[\u001b[49m\u001b[38;5;241;43m1\u001b[39;49m\u001b[43m]\u001b[49m \u001b[38;5;241m=\u001b[39m \u001b[38;5;241m5\u001b[39m \u001b[38;5;66;03m# 값의 변경이 불가능!\u001b[39;00m\n",
      "\u001b[1;31mTypeError\u001b[0m: 'tuple' object does not support item assignment"
     ]
    }
   ],
   "source": [
    "t[1] = 5 # 값의 변경이 불가능!"
   ]
  },
  {
   "cell_type": "code",
   "execution_count": 72,
   "id": "9bdbae16",
   "metadata": {},
   "outputs": [
    {
     "data": {
      "text/plain": [
       "1"
      ]
     },
     "execution_count": 72,
     "metadata": {},
     "output_type": "execute_result"
    }
   ],
   "source": [
    "t = (1) #일반 정수로 인식\n",
    "t"
   ]
  },
  {
   "cell_type": "code",
   "execution_count": 73,
   "id": "1f56c593",
   "metadata": {},
   "outputs": [
    {
     "data": {
      "text/plain": [
       "int"
      ]
     },
     "execution_count": 73,
     "metadata": {},
     "output_type": "execute_result"
    }
   ],
   "source": [
    "type(t)"
   ]
  },
  {
   "cell_type": "code",
   "execution_count": 74,
   "id": "a28efb9b",
   "metadata": {},
   "outputs": [],
   "source": [
    "t=(1,) #값이 하나인 Tuple은 반드시 \",\"\" 를 붙어야 함"
   ]
  },
  {
   "cell_type": "code",
   "execution_count": 75,
   "id": "ff3e2d8a",
   "metadata": {},
   "outputs": [
    {
     "data": {
      "text/plain": [
       "tuple"
      ]
     },
     "execution_count": 75,
     "metadata": {},
     "output_type": "execute_result"
    }
   ],
   "source": [
    "type(t)"
   ]
  },
  {
   "cell_type": "markdown",
   "id": "76299f0d",
   "metadata": {},
   "source": [
    "# 집합(set)\n",
    "- 값을 순서없이 저장,중복 불허하는 자료형\n",
    "- set 객체선언을 이용하여 객체 생성"
   ]
  },
  {
   "cell_type": "code",
   "execution_count": 77,
   "id": "a5650bc3",
   "metadata": {},
   "outputs": [
    {
     "data": {
      "text/plain": [
       "{1, 2, 3, 4, 5, 6}"
      ]
     },
     "execution_count": 77,
     "metadata": {},
     "output_type": "execute_result"
    }
   ],
   "source": [
    "s = set([1,2,3,4,5,6])\n",
    "s"
   ]
  },
  {
   "cell_type": "code",
   "execution_count": 79,
   "id": "87a5fd5f",
   "metadata": {},
   "outputs": [
    {
     "data": {
      "text/plain": [
       "{1, 2, 3}"
      ]
     },
     "execution_count": 79,
     "metadata": {},
     "output_type": "execute_result"
    }
   ],
   "source": [
    "s = set([1,2,3,1,2,3])\n",
    "s                          # 중 복 불 허!"
   ]
  },
  {
   "cell_type": "code",
   "execution_count": 81,
   "id": "26cb1e89",
   "metadata": {},
   "outputs": [
    {
     "data": {
      "text/plain": [
       "{1, 2, 3}"
      ]
     },
     "execution_count": 81,
     "metadata": {},
     "output_type": "execute_result"
    }
   ],
   "source": [
    "s.add(1)\n",
    "s"
   ]
  },
  {
   "cell_type": "code",
   "execution_count": 82,
   "id": "d16ed6c9",
   "metadata": {},
   "outputs": [
    {
     "data": {
      "text/plain": [
       "{2, 3}"
      ]
     },
     "execution_count": 82,
     "metadata": {},
     "output_type": "execute_result"
    }
   ],
   "source": [
    "s.remove(1)\n",
    "s"
   ]
  },
  {
   "cell_type": "code",
   "execution_count": 84,
   "id": "0793ab29",
   "metadata": {},
   "outputs": [
    {
     "data": {
      "text/plain": [
       "{1, 2, 3, 4, 5, 6, 7}"
      ]
     },
     "execution_count": 84,
     "metadata": {},
     "output_type": "execute_result"
    }
   ],
   "source": [
    "s.update([1,4,5,6,7])\n",
    "s"
   ]
  },
  {
   "cell_type": "code",
   "execution_count": 85,
   "id": "f7e94986",
   "metadata": {},
   "outputs": [
    {
     "data": {
      "text/plain": [
       "{1, 2, 4, 5, 6, 7}"
      ]
     },
     "execution_count": 85,
     "metadata": {},
     "output_type": "execute_result"
    }
   ],
   "source": [
    "s.discard(3)\n",
    "s"
   ]
  },
  {
   "cell_type": "markdown",
   "id": "7660183f",
   "metadata": {},
   "source": [
    "discard() 메소드의 경우 지우려는 Element가 없어도 정상종료하는 반면, remove() 메소드는 지우려는 Element가 없으면 KeyError가 발생하는 차이점이 있다."
   ]
  },
  {
   "cell_type": "code",
   "execution_count": 86,
   "id": "facd4a3d",
   "metadata": {},
   "outputs": [
    {
     "data": {
      "text/plain": [
       "set()"
      ]
     },
     "execution_count": 86,
     "metadata": {},
     "output_type": "execute_result"
    }
   ],
   "source": [
    "s.clear()\n",
    "s"
   ]
  },
  {
   "cell_type": "markdown",
   "id": "e68c41d6",
   "metadata": {},
   "source": [
    "# 사전(dictionary)\n",
    "- 데이터를 저장 할 때는 구분 지을수 있는 값을 함께 저장 ex)주민등록번호,제품모델번호\n",
    "- 구분을 위한 데이터 고유값을 Identifier 또는 Key라고 함\n",
    "- Key 값을 활용하여, 데이터값(Value)를 관리함\n",
    "- key와 value를 활용하여 key로 value를 검색\n",
    "- 다른언어에서는 Hash Table이란 단어로 사용\n",
    "- {key1:value1, key2:value2, key3:value3}"
   ]
  },
  {
   "cell_type": "code",
   "execution_count": 93,
   "id": "dacd8a70",
   "metadata": {},
   "outputs": [],
   "source": [
    "student_info = {19630403: '홍길동', 19630403: '강감찬', 19951125:'사임당'}"
   ]
  },
  {
   "cell_type": "code",
   "execution_count": 94,
   "id": "71e27223",
   "metadata": {},
   "outputs": [
    {
     "data": {
      "text/plain": [
       "'강감찬'"
      ]
     },
     "execution_count": 94,
     "metadata": {},
     "output_type": "execute_result"
    }
   ],
   "source": [
    "student_info[19630403]"
   ]
  },
  {
   "cell_type": "code",
   "execution_count": 95,
   "id": "9d9bc06b",
   "metadata": {},
   "outputs": [
    {
     "data": {
      "text/plain": [
       "{19630403: '강감찬', 19951125: '사임당'}"
      ]
     },
     "execution_count": 95,
     "metadata": {},
     "output_type": "execute_result"
    }
   ],
   "source": [
    "student_info"
   ]
  },
  {
   "cell_type": "code",
   "execution_count": 96,
   "id": "ac2deab1",
   "metadata": {},
   "outputs": [
    {
     "data": {
      "text/plain": [
       "{19630403: '강감찬', 19770502: '이순신', 19951125: '임꺽정'}"
      ]
     },
     "execution_count": 96,
     "metadata": {},
     "output_type": "execute_result"
    }
   ],
   "source": [
    "student_info = {19630403: '홍길동',\n",
    " 19770502: '이순신',\n",
    " 19951125: '사임당'}\n",
    "\n",
    "student_info[19630403]\n",
    "student_info[19630403] = '강감찬'\n",
    "student_info[19951125]\n",
    "student_info[19951125] = '임꺽정'\n",
    "student_info\n"
   ]
  },
  {
   "cell_type": "code",
   "execution_count": 98,
   "id": "7f13c9c4",
   "metadata": {},
   "outputs": [
    {
     "name": "stdout",
     "output_type": "stream",
     "text": [
      "<class 'dict'>\n",
      "{'a': 10, 'b': 2, 'c': 3, 'e': 20}\n"
     ]
    }
   ],
   "source": [
    "a = {'a':1, 'b':2, 'c':3}\n",
    "print(type(a))\n",
    "a['a'] = 10\n",
    "a['e'] = 20\n",
    "print(a)"
   ]
  },
  {
   "cell_type": "code",
   "execution_count": 100,
   "id": "8497a96a",
   "metadata": {},
   "outputs": [
    {
     "name": "stdout",
     "output_type": "stream",
     "text": [
      "{'America': 1, 'Korea': 82, 'China': 86, 'Japan': 81}\n",
      "dict_items([('America', 1), ('Korea', 82), ('China', 86), ('Japan', 81)])\n",
      "dict_keys(['America', 'Korea', 'China', 'Japan'])\n",
      "{'America': 1, 'Korea': 82, 'China': 86, 'Japan': 81, 'Gernman': 49}\n",
      "dict_values([1, 82, 86, 81, 49])\n"
     ]
    }
   ],
   "source": [
    "country_code={}\n",
    "country_code={\"America\":1, \"Korea\":82, \"China\":86, \"Japan\":81}\n",
    "print(country_code)\n",
    "\n",
    "print(country_code.items())\n",
    "print(country_code.keys())\n",
    "\n",
    "country_code[\"Gernman\"]=49\n",
    "print(country_code)\n",
    "print(country_code.values())"
   ]
  },
  {
   "cell_type": "code",
   "execution_count": 102,
   "id": "0899e193",
   "metadata": {},
   "outputs": [
    {
     "name": "stdout",
     "output_type": "stream",
     "text": [
      "<class 'dict_items'>\n"
     ]
    }
   ],
   "source": [
    "print(type(country_code.items()))"
   ]
  },
  {
   "cell_type": "code",
   "execution_count": 106,
   "id": "2a68b1a6",
   "metadata": {},
   "outputs": [
    {
     "name": "stdout",
     "output_type": "stream",
     "text": [
      "<class 'dict_keys'>\n"
     ]
    }
   ],
   "source": [
    "print(type(country_code.keys()))"
   ]
  },
  {
   "cell_type": "code",
   "execution_count": 112,
   "id": "ad3f5390",
   "metadata": {},
   "outputs": [
    {
     "name": "stdout",
     "output_type": "stream",
     "text": [
      "Key: America\n",
      "Value: 1\n",
      "Key: Korea\n",
      "Value: 82\n",
      "Key: China\n",
      "Value: 86\n",
      "Key: Japan\n",
      "Value: 81\n",
      "Key: Gernman\n",
      "Value: 49\n"
     ]
    }
   ],
   "source": [
    "for k,v in country_code.items():\n",
    "    print(\"Key:\",k)\n",
    "    print(\"Value:\",v)"
   ]
  },
  {
   "cell_type": "code",
   "execution_count": 110,
   "id": "b6ab1ecd",
   "metadata": {},
   "outputs": [
    {
     "data": {
      "text/plain": [
       "True"
      ]
     },
     "execution_count": 110,
     "metadata": {},
     "output_type": "execute_result"
    }
   ],
   "source": [
    "\"Korea\" in country_code.keys()"
   ]
  },
  {
   "cell_type": "code",
   "execution_count": 111,
   "id": "2019a586",
   "metadata": {},
   "outputs": [
    {
     "data": {
      "text/plain": [
       "True"
      ]
     },
     "execution_count": 111,
     "metadata": {},
     "output_type": "execute_result"
    }
   ],
   "source": [
    "82 in country_code.values()"
   ]
  },
  {
   "cell_type": "markdown",
   "id": "bcc1366d",
   "metadata": {},
   "source": [
    "## deque\n",
    "- Stack과 Queue를 지원하는 모듈\n",
    "- List에 비해 효율적인 자료저장 방식을 지원함\n",
    "- rotate, reverse등 Linked List의 특성을 지원함\n",
    "- 기존 list형태의 함수를 모두 지원함\n",
    "- 효율적인 메모리 사용 가능"
   ]
  },
  {
   "cell_type": "code",
   "execution_count": 115,
   "id": "48aadb20",
   "metadata": {},
   "outputs": [
    {
     "name": "stdout",
     "output_type": "stream",
     "text": [
      "deque([0, 1, 2, 3, 4])\n",
      "deque([10, 0, 1, 2, 3, 4])\n"
     ]
    }
   ],
   "source": [
    "from collections import deque\n",
    "deque_list = deque()\n",
    "\n",
    "for i in range(5):\n",
    "    deque_list.append(i)\n",
    "print(deque_list)\n",
    "\n",
    "deque_list.appendleft(10)\n",
    "print(deque_list)"
   ]
  },
  {
   "cell_type": "markdown",
   "id": "3f707cae",
   "metadata": {},
   "source": [
    "- Stack 1,2,3 넣으면 3,2,1 순으로 꺼내짐 \n",
    "- Queue 1,2,3 넣으면 1,2,3 순으로         "
   ]
  },
  {
   "cell_type": "code",
   "execution_count": 116,
   "id": "3d82ff63",
   "metadata": {},
   "outputs": [
    {
     "name": "stdout",
     "output_type": "stream",
     "text": [
      "deque([3, 4, 10, 0, 1, 2])\n",
      "deque([1, 2, 3, 4, 10, 0])\n",
      "deque([1, 2, 3, 4, 10, 0])\n",
      "deque([0, 10, 4, 3, 2, 1])\n",
      "deque([1, 2, 3, 4, 10, 0, 5, 6, 7])\n",
      "deque([7, 6, 5, 1, 2, 3, 4, 10, 0, 5, 6, 7])\n"
     ]
    }
   ],
   "source": [
    "deque_list.rotate(2)\n",
    "print(deque_list)\n",
    "deque_list.rotate(2)\n",
    "print(deque_list)\n",
    "print(deque_list)\n",
    "print(deque(reversed(deque_list)))\n",
    "deque_list.extend([5,6,7])\n",
    "print(deque_list)\n",
    "deque_list.extendleft([5,6,7])\n",
    "print(deque_list)"
   ]
  },
  {
   "cell_type": "code",
   "execution_count": 118,
   "id": "8add5845",
   "metadata": {},
   "outputs": [
    {
     "name": "stdout",
     "output_type": "stream",
     "text": [
      "12.703125 seconds\n"
     ]
    }
   ],
   "source": [
    "#deque\n",
    "\n",
    "from collections import deque\n",
    "import time\n",
    "\n",
    "start_time=time.process_time()\n",
    "deque_list=deque()\n",
    "#Stack\n",
    "for i in range(10000):\n",
    "    for i in range(10000):\n",
    "        deque_list.append(i)\n",
    "        deque_list.pop()\n",
    "print(time.process_time()-start_time, \"seconds\")"
   ]
  },
  {
   "cell_type": "code",
   "execution_count": 121,
   "id": "47ea77f9",
   "metadata": {},
   "outputs": [
    {
     "name": "stdout",
     "output_type": "stream",
     "text": [
      "29.484375 seconds\n"
     ]
    }
   ],
   "source": [
    "#general list\n",
    "\n",
    "from collections import deque\n",
    "import time\n",
    "\n",
    "start_time=time.process_time()\n",
    "just_list=[]\n",
    "#Stack\n",
    "for i in range(10000):\n",
    "    for i in range(10000):\n",
    "        just_list.append(i)\n",
    "        just_list.pop()\n",
    "print(time.process_time()-start_time, \"seconds\")"
   ]
  },
  {
   "cell_type": "markdown",
   "id": "1f92b545",
   "metadata": {},
   "source": [
    "## Counter \n",
    "- Dict type, keyword parameter 등도 모두 처리 가능"
   ]
  },
  {
   "cell_type": "code",
   "execution_count": 123,
   "id": "2813c669",
   "metadata": {},
   "outputs": [
    {
     "name": "stdout",
     "output_type": "stream",
     "text": [
      "Counter({'red': 4, 'blue': 2})\n",
      "['red', 'red', 'red', 'red', 'blue', 'blue']\n"
     ]
    }
   ],
   "source": [
    "from collections import Counter\n",
    "c = Counter({\"red\":4, 'blue':2})\n",
    "print(c)\n",
    "print(list(c.elements()))"
   ]
  },
  {
   "cell_type": "code",
   "execution_count": 125,
   "id": "335deedf",
   "metadata": {},
   "outputs": [
    {
     "name": "stdout",
     "output_type": "stream",
     "text": [
      "Counter({'dogs': 5, 'cats': 4})\n",
      "['cats', 'cats', 'cats', 'cats', 'dogs', 'dogs', 'dogs', 'dogs', 'dogs']\n"
     ]
    }
   ],
   "source": [
    "from collections import Counter\n",
    "c = Counter(cats=4, dogs=5)\n",
    "print(c)\n",
    "print(list(c.elements()))"
   ]
  },
  {
   "cell_type": "markdown",
   "id": "73b3613d",
   "metadata": {},
   "source": [
    "- Set 연산들을 지원함"
   ]
  },
  {
   "cell_type": "code",
   "execution_count": 128,
   "id": "a4a38e0d",
   "metadata": {
    "scrolled": true
   },
   "outputs": [
    {
     "name": "stdout",
     "output_type": "stream",
     "text": [
      "Counter({'a': 3, 'b': 0, 'c': -3, 'd': -6})\n",
      "Counter({'a': 4, 'b': 2})\n",
      "Counter({'a': 1})\n",
      "Counter({'d': 4, 'a': 3, 'c': 3, 'b': 2})\n"
     ]
    }
   ],
   "source": [
    "from collections import Counter\n",
    "c = Counter(a=4, b=2, c=0, d=-2)\n",
    "d = Counter(a=1, b=2, c=3, d=4)\n",
    "c.subtract(d)\n",
    "print(c)\n",
    "print(c + d)\n",
    "print(c & d)\n",
    "print(c | d)"
   ]
  },
  {
   "cell_type": "markdown",
   "id": "58b176c0",
   "metadata": {},
   "source": [
    "- word counter의 기능도 손쉽게 제공함"
   ]
  },
  {
   "cell_type": "code",
   "execution_count": 129,
   "id": "6b0c31ca",
   "metadata": {},
   "outputs": [
    {
     "name": "stdout",
     "output_type": "stream",
     "text": [
      "Counter({'and': 3, 'to': 3, 'a': 2, 'press': 2, 'release': 2, 'can': 2, 'you': 2, 'is': 1, 'the': 1, 'quickest': 1, 'easiest': 1, 'way': 1, 'get': 1, 'free': 1, 'publicity.': 1, 'if': 1, 'well': 1, 'written,': 1, 'result': 1, 'in': 1, 'multiple': 1, 'published': 1, 'articles': 1, 'about': 1, 'your': 1, 'firm': 1, 'its': 1, 'products.': 1, 'that': 1, 'mean': 1, 'new': 1, 'prospects': 1, 'contacting': 1, 'asking': 1, 'sell': 1, 'them.': 1, '….': 1})\n",
      "2\n"
     ]
    }
   ],
   "source": [
    "from collections import Counter\n",
    "text =\"\"\"A press release is the quickest and easiest way to get free publicity.\n",
    "If well written, a press release can result in multiple published articles about\n",
    "your firm and its products. And that can mean new prospects contacting you asking\n",
    "you to sell to them. ….\"\"\".lower().split()\n",
    "print(Counter(text))\n",
    "print(Counter(text)['a'])"
   ]
  },
  {
   "cell_type": "markdown",
   "id": "28c4e7b9",
   "metadata": {},
   "source": [
    "#### split()함수: \n",
    "a.split()처럼 괄호 안에 아무 값도 넣어 주지 않으면 공백(스페이스, 탭, 엔터 등)을 기준으로 문자열을 나누어 준다. "
   ]
  },
  {
   "cell_type": "code",
   "execution_count": 130,
   "id": "a4fdff0c",
   "metadata": {},
   "outputs": [
    {
     "name": "stdout",
     "output_type": "stream",
     "text": [
      "Counter({'and': 3, 'to': 3, 'a': 2, 'press': 2, 'release': 2, 'can': 2, 'you': 2, 'is': 1, 'the': 1, 'quickest': 1, 'easiest': 1, 'way': 1, 'get': 1, 'free': 1, 'publicity.': 1, 'if': 1, 'well': 1, 'written,': 1, 'result': 1, 'in': 1, 'multiple': 1, 'published': 1, 'articles': 1, 'about': 1, 'your': 1, 'firm': 1, 'its': 1, 'products.': 1, 'that': 1, 'mean': 1, 'new': 1, 'prospects': 1, 'contacting': 1, 'asking': 1, 'sell': 1, 'them.': 1, '….': 1})\n",
      "2\n"
     ]
    }
   ],
   "source": [
    "from collections import Counter\n",
    "text ='''A press release is the quickest and easiest way to get free publicity.\n",
    "If well written, a press release can result in multiple published articles about\n",
    "your firm and its products. And that can mean new prospects contacting you asking\n",
    "you to sell to them. ….'''.lower().split()\n",
    "print(Counter(text))\n",
    "print(Counter(text)['a'])"
   ]
  },
  {
   "cell_type": "markdown",
   "id": "d7113f17",
   "metadata": {},
   "source": [
    "\"\"\" text 문자열 여러줄 가지고 올때 따옴표 3개씩 쓴당\"\"\""
   ]
  },
  {
   "cell_type": "code",
   "execution_count": 133,
   "id": "7d12c864",
   "metadata": {},
   "outputs": [
    {
     "ename": "SyntaxError",
     "evalue": "invalid syntax (703521134.py, line 1)",
     "output_type": "error",
     "traceback": [
      "\u001b[1;36m  Cell \u001b[1;32mIn[133], line 1\u001b[1;36m\u001b[0m\n\u001b[1;33m    text = \"\"안녕하세요\u001b[0m\n\u001b[1;37m             ^\u001b[0m\n\u001b[1;31mSyntaxError\u001b[0m\u001b[1;31m:\u001b[0m invalid syntax\n"
     ]
    }
   ],
   "source": [
    "text = \"\"안녕하세요\n",
    "반갑습니다\"\""
   ]
  },
  {
   "cell_type": "markdown",
   "id": "3a8e31a0",
   "metadata": {},
   "source": [
    "## named tuple\n",
    "- tuple형태로 Data구조체를 저장하는 방법\n",
    "- 저장되는 data의 variable을 사전에 지정해서 저장함"
   ]
  },
  {
   "cell_type": "code",
   "execution_count": 145,
   "id": "6b1d9c1d",
   "metadata": {},
   "outputs": [
    {
     "name": "stdout",
     "output_type": "stream",
     "text": [
      "33\n",
      "{'x': 11, 'y': 22}\n",
      "Point(x=11, y=22)\n",
      "11 22\n",
      "11 22\n",
      "Point(x=11, y=22)\n",
      "Point(x=11, y=22)\n",
      "<class '__main__.Point'>\n"
     ]
    }
   ],
   "source": [
    "from collections import namedtuple\n",
    "Point1 = namedtuple('Point', ['x','y']) #('이름',['파라미터(?)'])\n",
    "p = Point(11, y=22)\n",
    "print(p[0] + p[1])\n",
    "x, y=p\n",
    "d = p._asdict()\n",
    "print(d)\n",
    "print(Point(**d))\n",
    "print(x,y)\n",
    "print(p.x,p.y)\n",
    "print(Point(x=11, y=22))\n",
    "print(p)\n",
    "print(Point1)"
   ]
  },
  {
   "cell_type": "markdown",
   "id": "cab9a20e",
   "metadata": {},
   "source": [
    "## List comprehensions"
   ]
  },
  {
   "cell_type": "code",
   "execution_count": 146,
   "id": "179890d0",
   "metadata": {},
   "outputs": [
    {
     "data": {
      "text/plain": [
       "[0, 1, 2, 3, 4, 5, 6, 7, 8, 9]"
      ]
     },
     "execution_count": 146,
     "metadata": {},
     "output_type": "execute_result"
    }
   ],
   "source": [
    "result =[]\n",
    "for i in range(10):\n",
    "    result.append(i)\n",
    "    \n",
    "result"
   ]
  },
  {
   "cell_type": "code",
   "execution_count": 147,
   "id": "e4c54f86",
   "metadata": {},
   "outputs": [
    {
     "data": {
      "text/plain": [
       "[0, 1, 2, 3, 4, 5, 6, 7, 8, 9]"
      ]
     },
     "execution_count": 147,
     "metadata": {},
     "output_type": "execute_result"
    }
   ],
   "source": [
    "result = [i for i in range(10)]\n",
    "result"
   ]
  },
  {
   "cell_type": "code",
   "execution_count": 149,
   "id": "6b909f31",
   "metadata": {},
   "outputs": [
    {
     "data": {
      "text/plain": [
       "[0, 2, 4, 6, 8]"
      ]
     },
     "execution_count": 149,
     "metadata": {},
     "output_type": "execute_result"
    }
   ],
   "source": [
    "result = [i for i in range(10) if i%2==0 ]\n",
    "result"
   ]
  },
  {
   "cell_type": "code",
   "execution_count": 151,
   "id": "80ea490a",
   "metadata": {},
   "outputs": [
    {
     "name": "stdout",
     "output_type": "stream",
     "text": [
      "['HW', 'Ho', 'Hr', 'Hl', 'Hd', 'eW', 'eo', 'er', 'el', 'ed', 'lW', 'lo', 'lr', 'll', 'ld', 'lW', 'lo', 'lr', 'll', 'ld', 'oW', 'oo', 'or', 'ol', 'od']\n"
     ]
    }
   ],
   "source": [
    "word_1 = \"Hello\"\n",
    "word_2 = \"World\"\n",
    "result = [i+j for i in word_1 for j in word_2]\n",
    "print(result)"
   ]
  },
  {
   "cell_type": "code",
   "execution_count": 152,
   "id": "71314803",
   "metadata": {},
   "outputs": [
    {
     "data": {
      "text/plain": [
       "['AD', 'AE', 'AA', 'BD', 'BE', 'BA', 'CD', 'CE', 'CA']"
      ]
     },
     "execution_count": 152,
     "metadata": {},
     "output_type": "execute_result"
    }
   ],
   "source": [
    "case_1 = [\"A\",\"B\",\"C\"]\n",
    "case_2 = [\"D\",\"E\",\"A\"]\n",
    "result = [i+j for i in case_1 for j in case_2]\n",
    "result"
   ]
  },
  {
   "cell_type": "code",
   "execution_count": 155,
   "id": "629170c2",
   "metadata": {},
   "outputs": [
    {
     "data": {
      "text/plain": [
       "['AD', 'AE', 'AA', 'BD', 'BE', 'BA', 'CD', 'CE', 'CA']"
      ]
     },
     "execution_count": 155,
     "metadata": {},
     "output_type": "execute_result"
    }
   ],
   "source": [
    "case_1 = \"ABC\"\n",
    "case_2 = \"DEA\"\n",
    "result = [i+j for i in case_1 for j in case_2]\n",
    "result"
   ]
  },
  {
   "cell_type": "code",
   "execution_count": 154,
   "id": "327abd6b",
   "metadata": {},
   "outputs": [
    {
     "data": {
      "text/plain": [
       "['AD', 'AE', 'BD', 'BE', 'BA', 'CD', 'CE', 'CA']"
      ]
     },
     "execution_count": 154,
     "metadata": {},
     "output_type": "execute_result"
    }
   ],
   "source": [
    "result = [i+j for i in case_1 for j in case_2 if not (i==j)]\n",
    "result"
   ]
  },
  {
   "cell_type": "markdown",
   "id": "84c9ba2b",
   "metadata": {},
   "source": [
    "## Enumerate\n",
    "- List의 element를 추출할 때 번호를 붙여서 추출"
   ]
  },
  {
   "cell_type": "code",
   "execution_count": 156,
   "id": "68f8e51d",
   "metadata": {},
   "outputs": [
    {
     "name": "stdout",
     "output_type": "stream",
     "text": [
      "0 tic\n",
      "1 tac\n",
      "2 toc\n"
     ]
    }
   ],
   "source": [
    "for i,v in enumerate(['tic','tac','toc']):    #i: index, v: value\n",
    "    print(i,v)"
   ]
  },
  {
   "cell_type": "code",
   "execution_count": 169,
   "id": "4ec74c18",
   "metadata": {},
   "outputs": [
    {
     "data": {
      "text/plain": [
       "[(0, (0, 'a')), (1, (1, 'b')), (2, (2, 'c')), (3, (3, 'd'))]"
      ]
     },
     "execution_count": 169,
     "metadata": {},
     "output_type": "execute_result"
    }
   ],
   "source": [
    "mylist = ['a','b','c','d']\n",
    "list(enumerate(list(enumerate(mylist))))"
   ]
  },
  {
   "cell_type": "code",
   "execution_count": 158,
   "id": "f3736fc5",
   "metadata": {},
   "outputs": [
    {
     "data": {
      "text/plain": [
       "{0: 'Elements', 1: 'are', 2: 'counted', 3: 'from', 4: 'an', 5: 'iterable'}"
      ]
     },
     "execution_count": 158,
     "metadata": {},
     "output_type": "execute_result"
    }
   ],
   "source": [
    "{i:j for i,j in enumerate(\"Elements are counted from an iterable\".split())}"
   ]
  },
  {
   "cell_type": "code",
   "execution_count": 185,
   "id": "87958c79",
   "metadata": {},
   "outputs": [
    {
     "name": "stdout",
     "output_type": "stream",
     "text": [
      "2 * 1 = 2\n",
      "2 * 2 = 4\n",
      "2 * 3 = 6\n",
      "2 * 4 = 8\n",
      "2 * 5 = 10\n",
      "2 * 6 = 12\n",
      "2 * 7 = 14\n",
      "2 * 8 = 16\n",
      "2 * 9 = 18\n",
      "3 * 1 = 3\n",
      "3 * 2 = 6\n",
      "3 * 3 = 9\n",
      "3 * 4 = 12\n",
      "3 * 5 = 15\n",
      "3 * 6 = 18\n",
      "3 * 7 = 21\n",
      "3 * 8 = 24\n",
      "3 * 9 = 27\n",
      "4 * 1 = 4\n",
      "4 * 2 = 8\n",
      "4 * 3 = 12\n",
      "4 * 4 = 16\n",
      "4 * 5 = 20\n",
      "4 * 6 = 24\n",
      "4 * 7 = 28\n",
      "4 * 8 = 32\n",
      "4 * 9 = 36\n",
      "5 * 1 = 5\n",
      "5 * 2 = 10\n",
      "5 * 3 = 15\n",
      "5 * 4 = 20\n",
      "5 * 5 = 25\n",
      "5 * 6 = 30\n",
      "5 * 7 = 35\n",
      "5 * 8 = 40\n",
      "5 * 9 = 45\n",
      "6 * 1 = 6\n",
      "6 * 2 = 12\n",
      "6 * 3 = 18\n",
      "6 * 4 = 24\n",
      "6 * 5 = 30\n",
      "6 * 6 = 36\n",
      "6 * 7 = 42\n",
      "6 * 8 = 48\n",
      "6 * 9 = 54\n",
      "7 * 1 = 7\n",
      "7 * 2 = 14\n",
      "7 * 3 = 21\n",
      "7 * 4 = 28\n",
      "7 * 5 = 35\n",
      "7 * 6 = 42\n",
      "7 * 7 = 49\n",
      "7 * 8 = 56\n",
      "7 * 9 = 63\n",
      "8 * 1 = 8\n",
      "8 * 2 = 16\n",
      "8 * 3 = 24\n",
      "8 * 4 = 32\n",
      "8 * 5 = 40\n",
      "8 * 6 = 48\n",
      "8 * 7 = 56\n",
      "8 * 8 = 64\n",
      "8 * 9 = 72\n",
      "9 * 1 = 9\n",
      "9 * 2 = 18\n",
      "9 * 3 = 27\n",
      "9 * 4 = 36\n",
      "9 * 5 = 45\n",
      "9 * 6 = 54\n",
      "9 * 7 = 63\n",
      "9 * 8 = 72\n",
      "9 * 9 = 81\n"
     ]
    }
   ],
   "source": [
    "for result in ([[x, y, x*y] for x in range(2,10) for y in range(1,10)]):\n",
    "    print(result[0],\"*\",result[1],\"=\",result[2])"
   ]
  }
 ],
 "metadata": {
  "kernelspec": {
   "display_name": "Python 3 (ipykernel)",
   "language": "python",
   "name": "python3"
  },
  "language_info": {
   "codemirror_mode": {
    "name": "ipython",
    "version": 3
   },
   "file_extension": ".py",
   "mimetype": "text/x-python",
   "name": "python",
   "nbconvert_exporter": "python",
   "pygments_lexer": "ipython3",
   "version": "3.9.0"
  }
 },
 "nbformat": 4,
 "nbformat_minor": 5
}
