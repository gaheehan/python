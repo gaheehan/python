{
 "cells": [
  {
   "cell_type": "code",
   "execution_count": 1,
   "id": "1f73944c",
   "metadata": {},
   "outputs": [],
   "source": [
    "import serial"
   ]
  },
  {
   "cell_type": "code",
   "execution_count": 2,
   "id": "d67d20c9",
   "metadata": {},
   "outputs": [],
   "source": [
    "import cv2"
   ]
  },
  {
   "cell_type": "code",
   "execution_count": null,
   "id": "a4affb60",
   "metadata": {},
   "outputs": [],
   "source": [
    "PORT = \n",
    "baud =19200"
   ]
  },
  {
   "cell_type": "code",
   "execution_count": null,
   "id": "d8f2304f",
   "metadata": {},
   "outputs": [],
   "source": [
    "ser = serial.Serial(Port, baud, timeout=1)"
   ]
  }
 ],
 "metadata": {
  "kernelspec": {
   "display_name": "Python 3 (ipykernel)",
   "language": "python",
   "name": "python3"
  },
  "language_info": {
   "codemirror_mode": {
    "name": "ipython",
    "version": 3
   },
   "file_extension": ".py",
   "mimetype": "text/x-python",
   "name": "python",
   "nbconvert_exporter": "python",
   "pygments_lexer": "ipython3",
   "version": "3.9.0"
  }
 },
 "nbformat": 4,
 "nbformat_minor": 5
}
